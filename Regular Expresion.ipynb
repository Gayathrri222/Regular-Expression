{
 "cells": [
  {
   "cell_type": "markdown",
   "id": "7ed76810",
   "metadata": {},
   "source": [
    "#                              ------------->Regular Expression<------------"
   ]
  },
  {
   "cell_type": "markdown",
   "id": "8f3f01c3",
   "metadata": {},
   "source": [
    "## Findall"
   ]
  },
  {
   "cell_type": "code",
   "execution_count": 1,
   "id": "db2dfa9b",
   "metadata": {
    "scrolled": false
   },
   "outputs": [
    {
     "name": "stdout",
     "output_type": "stream",
     "text": [
      "['a', 'a', 'a']\n"
     ]
    }
   ],
   "source": [
    "import re\n",
    "str = 'python is programming language'\n",
    "a = re.findall(\"a\",str)\n",
    "print(a)"
   ]
  },
  {
   "cell_type": "code",
   "execution_count": 5,
   "id": "4ecdfc80",
   "metadata": {},
   "outputs": [
    {
     "name": "stdout",
     "output_type": "stream",
     "text": [
      "[]\n"
     ]
    }
   ],
   "source": [
    "str = 'python is a programming language'\n",
    "a = re.findall('c',str)\n",
    "print(a)"
   ]
  },
  {
   "cell_type": "markdown",
   "id": "e9da2b1c",
   "metadata": {},
   "source": [
    "## Search"
   ]
  },
  {
   "cell_type": "code",
   "execution_count": 4,
   "id": "4c1788e0",
   "metadata": {
    "scrolled": false
   },
   "outputs": [
    {
     "name": "stdout",
     "output_type": "stream",
     "text": [
      "<re.Match object; span=(10, 11), match='a'>\n"
     ]
    }
   ],
   "source": [
    "import re\n",
    "str ='python is a programming language'\n",
    "a = re.search(\"a\",str)\n",
    "print(a)"
   ]
  },
  {
   "cell_type": "code",
   "execution_count": 8,
   "id": "050a5629",
   "metadata": {},
   "outputs": [
    {
     "name": "stdout",
     "output_type": "stream",
     "text": [
      "10\n"
     ]
    }
   ],
   "source": [
    "str ='python is a programming language'\n",
    "a = re.search('a',str)\n",
    "print(a.start())"
   ]
  },
  {
   "cell_type": "code",
   "execution_count": 9,
   "id": "2d715ae9",
   "metadata": {},
   "outputs": [
    {
     "name": "stdout",
     "output_type": "stream",
     "text": [
      "i\n"
     ]
    }
   ],
   "source": [
    "str ='python is programming language'\n",
    "a= re.search('i',str)\n",
    "print(a.group())"
   ]
  },
  {
   "cell_type": "code",
   "execution_count": 10,
   "id": "aa97f317",
   "metadata": {},
   "outputs": [
    {
     "name": "stdout",
     "output_type": "stream",
     "text": [
      "pythonis programming language\n"
     ]
    }
   ],
   "source": [
    "str= 'pythonis programming language'\n",
    "a= re.search('a',str)\n",
    "print(a.string)"
   ]
  },
  {
   "cell_type": "markdown",
   "id": "e0ab85ec",
   "metadata": {},
   "source": [
    "## Split"
   ]
  },
  {
   "cell_type": "code",
   "execution_count": 11,
   "id": "279710f5",
   "metadata": {},
   "outputs": [
    {
     "name": "stdout",
     "output_type": "stream",
     "text": [
      "['python', 'is', 'a', 'programming', 'language']\n"
     ]
    }
   ],
   "source": [
    "str = 'python is a programming language'\n",
    "a = str.split()\n",
    "print(a)"
   ]
  },
  {
   "cell_type": "code",
   "execution_count": 12,
   "id": "c1a204a0",
   "metadata": {},
   "outputs": [
    {
     "name": "stdout",
     "output_type": "stream",
     "text": [
      "['python', 'is', 'a', 'programming', 'language']\n"
     ]
    }
   ],
   "source": [
    "str = 'python is a programming language'\n",
    "a =str.split(\" \")\n",
    "print(a)"
   ]
  },
  {
   "cell_type": "code",
   "execution_count": 13,
   "id": "c6415184",
   "metadata": {},
   "outputs": [
    {
     "name": "stdout",
     "output_type": "stream",
     "text": [
      "['python', 'is a programming language']\n"
     ]
    }
   ],
   "source": [
    "str = 'python is a programming language'\n",
    "a = str.split(\" \",1)\n",
    "print(a)"
   ]
  },
  {
   "cell_type": "code",
   "execution_count": 14,
   "id": "074f8d14",
   "metadata": {},
   "outputs": [
    {
     "name": "stdout",
     "output_type": "stream",
     "text": [
      "['pythonis', 'a', 'programming language']\n"
     ]
    }
   ],
   "source": [
    "str='pythonis a programming language'\n",
    "a= str.split(\" \",2)\n",
    "print(a)"
   ]
  },
  {
   "cell_type": "code",
   "execution_count": 15,
   "id": "1a61d523",
   "metadata": {},
   "outputs": [
    {
     "name": "stdout",
     "output_type": "stream",
     "text": [
      "['python is programming language']\n"
     ]
    }
   ],
   "source": [
    "str='python is programming language'\n",
    "a=str.split(\".\")\n",
    "print(a)"
   ]
  },
  {
   "cell_type": "code",
   "execution_count": 16,
   "id": "12f295f5",
   "metadata": {},
   "outputs": [
    {
     "name": "stdout",
     "output_type": "stream",
     "text": [
      "['python is programming language']\n"
     ]
    }
   ],
   "source": [
    "str='python is programming language'\n",
    "a=str.split(\",\")\n",
    "print(a)"
   ]
  },
  {
   "cell_type": "code",
   "execution_count": 18,
   "id": "8b3e8880",
   "metadata": {},
   "outputs": [
    {
     "name": "stdout",
     "output_type": "stream",
     "text": [
      "['python', 'is', ' programming language']\n"
     ]
    }
   ],
   "source": [
    "str='python.is. programming language'\n",
    "a=str.split(\".\")\n",
    "print(a)"
   ]
  },
  {
   "cell_type": "code",
   "execution_count": 19,
   "id": "fea2668e",
   "metadata": {},
   "outputs": [
    {
     "name": "stdout",
     "output_type": "stream",
     "text": [
      "['python', 'is', 'programming', 'language']\n"
     ]
    }
   ],
   "source": [
    "str= 'python,is,programming,language'\n",
    "a=str.split(\",\")\n",
    "print(a)"
   ]
  },
  {
   "cell_type": "code",
   "execution_count": 22,
   "id": "6027130e",
   "metadata": {},
   "outputs": [
    {
     "name": "stdout",
     "output_type": "stream",
     "text": [
      "['python', 'is', 'programming', 'language']\n"
     ]
    }
   ],
   "source": [
    "str='python.is.programming.language'\n",
    "a=str.split(\".\",-1)\n",
    "print(a)"
   ]
  },
  {
   "cell_type": "markdown",
   "id": "2b4e2cca",
   "metadata": {},
   "source": [
    "## Sub"
   ]
  },
  {
   "cell_type": "code",
   "execution_count": 23,
   "id": "685a7174",
   "metadata": {},
   "outputs": [
    {
     "name": "stdout",
     "output_type": "stream",
     "text": [
      "python is k progrkmming lkngukge\n"
     ]
    }
   ],
   "source": [
    "str='python is a programming language'\n",
    "a=re.sub(\"a\",\"k\",str)\n",
    "print(a)"
   ]
  },
  {
   "cell_type": "code",
   "execution_count": 25,
   "id": "03d6e1b3",
   "metadata": {},
   "outputs": [
    {
     "name": "stdout",
     "output_type": "stream",
     "text": [
      "['a', 'a', 'a', 'a']\n"
     ]
    }
   ],
   "source": [
    "import re\n",
    "str='python is a programming language'\n",
    "a=re.findall(\"a\",str)\n",
    "print(a)"
   ]
  },
  {
   "cell_type": "markdown",
   "id": "4599d0f4",
   "metadata": {},
   "source": [
    "## Meta Characters"
   ]
  },
  {
   "cell_type": "code",
   "execution_count": 26,
   "id": "6e9d4f11",
   "metadata": {},
   "outputs": [
    {
     "name": "stdout",
     "output_type": "stream",
     "text": [
      "['p', 'p']\n"
     ]
    }
   ],
   "source": [
    "# []\n",
    "str='python is aprogramming language'\n",
    "a=re.findall(\"[p]\",str)\n",
    "print(a)"
   ]
  },
  {
   "cell_type": "code",
   "execution_count": 27,
   "id": "cf322dfa",
   "metadata": {},
   "outputs": [
    {
     "name": "stdout",
     "output_type": "stream",
     "text": [
      "['python']\n"
     ]
    }
   ],
   "source": [
    "# ^\n",
    "str='python is progrmming language'\n",
    "a=re.findall(\"^python\",str)\n",
    "print(a)"
   ]
  },
  {
   "cell_type": "code",
   "execution_count": 28,
   "id": "e970da19",
   "metadata": {},
   "outputs": [
    {
     "name": "stdout",
     "output_type": "stream",
     "text": [
      "[]\n"
     ]
    }
   ],
   "source": [
    "str='python is a progrmmaing language'\n",
    "a=re.findall(\"^is\",str)\n",
    "print(a)"
   ]
  },
  {
   "cell_type": "code",
   "execution_count": 29,
   "id": "0e1b3da7",
   "metadata": {},
   "outputs": [
    {
     "name": "stdout",
     "output_type": "stream",
     "text": [
      "[]\n"
     ]
    }
   ],
   "source": [
    "## $\n",
    "str='python is aprogramming language '\n",
    "a=re.findall(\"uage$\",str)\n",
    "print(a)"
   ]
  },
  {
   "cell_type": "code",
   "execution_count": 30,
   "id": "08de1291",
   "metadata": {},
   "outputs": [
    {
     "name": "stdout",
     "output_type": "stream",
     "text": [
      "['guage']\n"
     ]
    }
   ],
   "source": [
    "## $\n",
    "import re\n",
    "str='python is a programming language'\n",
    "a=re.findall(\"guage$\",str)\n",
    "print(a)"
   ]
  },
  {
   "cell_type": "code",
   "execution_count": null,
   "id": "ba283367",
   "metadata": {},
   "outputs": [],
   "source": [
    "## ."
   ]
  },
  {
   "cell_type": "code",
   "execution_count": 31,
   "id": "c7397e35",
   "metadata": {},
   "outputs": [
    {
     "name": "stdout",
     "output_type": "stream",
     "text": [
      "['python ']\n"
     ]
    }
   ],
   "source": [
    "str='python is a programming language'\n",
    "a=re.findall('pyt....',str)\n",
    "print(a)"
   ]
  },
  {
   "cell_type": "code",
   "execution_count": 32,
   "id": "6b4bc5e9",
   "metadata": {},
   "outputs": [
    {
     "name": "stdout",
     "output_type": "stream",
     "text": [
      "['python is a']\n"
     ]
    }
   ],
   "source": [
    "str='python is a programming language '\n",
    "a=re.findall('pyth.......',str)\n",
    "print(a)"
   ]
  },
  {
   "cell_type": "code",
   "execution_count": 1,
   "id": "3ab9ae1c",
   "metadata": {},
   "outputs": [],
   "source": [
    "# *"
   ]
  },
  {
   "cell_type": "code",
   "execution_count": 34,
   "id": "712c7eb4",
   "metadata": {},
   "outputs": [
    {
     "name": "stdout",
     "output_type": "stream",
     "text": [
      "['', '', '', '', '', '', '', '', '', '', 'a', '', '', '', '', '', '', 'a', '', '', '', '', '', '', '', 'a', '', '', '', 'a', '', '', '']\n"
     ]
    }
   ],
   "source": [
    "import re\n",
    "str='python is a programming language'\n",
    "a=re.findall('a*',str)\n",
    "print(a)"
   ]
  },
  {
   "cell_type": "code",
   "execution_count": 35,
   "id": "cca72641",
   "metadata": {},
   "outputs": [
    {
     "name": "stdout",
     "output_type": "stream",
     "text": [
      "['py', 'p', 'py']\n"
     ]
    }
   ],
   "source": [
    "str='python is a programming langug pyr'\n",
    "a=re.findall('py*',str)\n",
    "print(a)"
   ]
  },
  {
   "cell_type": "code",
   "execution_count": 36,
   "id": "f335b81d",
   "metadata": {},
   "outputs": [
    {
     "name": "stdout",
     "output_type": "stream",
     "text": [
      "['', '', '', '', '', '', '', '', '', '', '', '', '', '', '', '', '', '', '', '', '', '', '', '', '', '', '', '', '', '', '', 'e', '']\n"
     ]
    }
   ],
   "source": [
    "str='python is a programming language'\n",
    "a=re.findall('e*',str)\n",
    "print(a)"
   ]
  },
  {
   "cell_type": "code",
   "execution_count": 40,
   "id": "83300e5b",
   "metadata": {},
   "outputs": [],
   "source": [
    "# +"
   ]
  },
  {
   "cell_type": "code",
   "execution_count": 39,
   "id": "f2955aa2",
   "metadata": {},
   "outputs": [
    {
     "name": "stdout",
     "output_type": "stream",
     "text": [
      "['p', 'p', 'p']\n"
     ]
    }
   ],
   "source": [
    "\n",
    "str='python is a programming language pr '\n",
    "a=re.findall('p+',str)\n",
    "print(a)"
   ]
  },
  {
   "cell_type": "code",
   "execution_count": 41,
   "id": "a854904d",
   "metadata": {},
   "outputs": [
    {
     "name": "stdout",
     "output_type": "stream",
     "text": [
      "['py', 'py']\n"
     ]
    }
   ],
   "source": [
    "str='python is a programmng language py'\n",
    "a=re.findall(\"py+\",str)\n",
    "print(a)"
   ]
  },
  {
   "cell_type": "code",
   "execution_count": 42,
   "id": "7032e30e",
   "metadata": {},
   "outputs": [],
   "source": [
    "## {}"
   ]
  },
  {
   "cell_type": "code",
   "execution_count": 43,
   "id": "a7bec5f9",
   "metadata": {},
   "outputs": [
    {
     "name": "stdout",
     "output_type": "stream",
     "text": [
      "['a', 'a', 'a', 'a']\n"
     ]
    }
   ],
   "source": [
    "str='python is a programming language'\n",
    "a=re.findall(\"a{1}\",str)\n",
    "print(a)"
   ]
  },
  {
   "cell_type": "markdown",
   "id": "0d28b442",
   "metadata": {},
   "source": [
    "## Special Sequences"
   ]
  },
  {
   "cell_type": "code",
   "execution_count": 45,
   "id": "b64bab96",
   "metadata": {},
   "outputs": [
    {
     "name": "stdout",
     "output_type": "stream",
     "text": [
      "['p', 'y', 't', 'h', 'o', 'n', ' ', 'i', 's', ' ', 'a', ' ', 'p', 'r', 'o', 'g', 'r', 'a', 'm', 'm', 'i', 'n', 'g', ' ', 'l', 'a', 'n', 'g', 'u', 'a', 'g', 'e', ' ']\n"
     ]
    }
   ],
   "source": [
    "# D\n",
    "str='python is a programming language 12334'\n",
    "a=re.findall(\"\\D\",str)\n",
    "print(a)"
   ]
  },
  {
   "cell_type": "code",
   "execution_count": 53,
   "id": "926a5a37",
   "metadata": {},
   "outputs": [
    {
     "name": "stdout",
     "output_type": "stream",
     "text": [
      "['1', '2', '3', '4', '5']\n"
     ]
    }
   ],
   "source": [
    "import re\n",
    "str='python is a programming language 12345'\n",
    "a=re.findall(\"\\d\",str)\n",
    "print(a)"
   ]
  },
  {
   "cell_type": "code",
   "execution_count": 51,
   "id": "01f120c8",
   "metadata": {},
   "outputs": [
    {
     "name": "stdout",
     "output_type": "stream",
     "text": [
      "['1', '2', '3']\n"
     ]
    }
   ],
   "source": [
    "str='python is a programming 123 language'\n",
    "a=re.findall('\\d',str)\n",
    "print(a)"
   ]
  },
  {
   "cell_type": "code",
   "execution_count": 54,
   "id": "b94235c5",
   "metadata": {},
   "outputs": [
    {
     "name": "stdout",
     "output_type": "stream",
     "text": [
      "['p', 'y', 't', 'h', 'o', 'n', 'i', 's', 'a', 'p', 'r', 'o', 'g', 'r', 'a', 'm', 'm', 'i', 'n', 'g', 'l', 'a', 'n', 'g', 'u', 'a', 'g', 'e', '1', '2']\n"
     ]
    }
   ],
   "source": [
    "# w\n",
    "str='python is a programming language12'\n",
    "a=re.findall(\"\\w\",str)\n",
    "print(a)"
   ]
  },
  {
   "cell_type": "code",
   "execution_count": 55,
   "id": "0cda3964",
   "metadata": {},
   "outputs": [
    {
     "name": "stdout",
     "output_type": "stream",
     "text": [
      "[' ', ' ', ' ', ' ']\n"
     ]
    }
   ],
   "source": [
    "# W\n",
    "str='python is a programming language'\n",
    "a=re.findall('\\W',str)\n",
    "print(a)"
   ]
  },
  {
   "cell_type": "code",
   "execution_count": 56,
   "id": "aa0c94b5",
   "metadata": {},
   "outputs": [
    {
     "name": "stdout",
     "output_type": "stream",
     "text": [
      "[' ', ' ', ' ', ' ', ' ']\n"
     ]
    }
   ],
   "source": [
    "# s\n",
    "str='python is a programming langguage '\n",
    "a=re.findall(\"\\s\",str)\n",
    "print(a)"
   ]
  },
  {
   "cell_type": "code",
   "execution_count": 57,
   "id": "345f48f8",
   "metadata": {},
   "outputs": [
    {
     "name": "stdout",
     "output_type": "stream",
     "text": [
      "['p', 'y', 't', 'h', 'o', 'n', 'i', 's', 'a', 'p', 'r', 'o', 'g', 'r', 'a', 'm', 'm', 'i', 'n', 'g', 'l', 'a', 'n', 'g', 'u', 'a', 'g', 'e']\n"
     ]
    }
   ],
   "source": [
    "str='python is a programming language'\n",
    "a=re.findall('\\S',str)\n",
    "print(a)"
   ]
  },
  {
   "cell_type": "markdown",
   "id": "584c881c",
   "metadata": {},
   "source": [
    "## Sets"
   ]
  },
  {
   "cell_type": "code",
   "execution_count": 59,
   "id": "f4307909",
   "metadata": {},
   "outputs": [
    {
     "name": "stdout",
     "output_type": "stream",
     "text": [
      "['i', 's', 'i']\n"
     ]
    }
   ],
   "source": [
    "#[abc]\n",
    "str='pytgho is programming language'\n",
    "a=re.findall('[is]',str)\n",
    "print(a)"
   ]
  },
  {
   "cell_type": "code",
   "execution_count": 60,
   "id": "23cb1f2f",
   "metadata": {},
   "outputs": [
    {
     "name": "stdout",
     "output_type": "stream",
     "text": [
      "['a', 'a', 'a', 'a', 'e']\n"
     ]
    }
   ],
   "source": [
    "## [a-z]\n",
    "str='python is a programming language'\n",
    "a=re.findall(\"[a-f]\",str)\n",
    "print(a)"
   ]
  },
  {
   "cell_type": "code",
   "execution_count": 61,
   "id": "a0225623",
   "metadata": {},
   "outputs": [
    {
     "name": "stdout",
     "output_type": "stream",
     "text": [
      "[' ', 'p', 'y', 't', 'h', 'o', 'n', ' ', 'i', 's', ' ', 'a', ' ', 'p', 'r', 'o', 'g', 'r', 'a', 'm', 'm', 'i', 'n', 'g', ' ', 'l', 'a', 'n', 'g', 'u', 'a', 'g', 'e']\n"
     ]
    }
   ],
   "source": [
    "# [^abc]\n",
    "str='123 python is a programming language'\n",
    "a=re.findall(\"[^123]\",str)\n",
    "print(a)"
   ]
  },
  {
   "cell_type": "code",
   "execution_count": 62,
   "id": "5c65abed",
   "metadata": {},
   "outputs": [
    {
     "name": "stdout",
     "output_type": "stream",
     "text": [
      "['5', '5', '5']\n"
     ]
    }
   ],
   "source": [
    "# [5678]\n",
    "str='555python is a programming language'\n",
    "a=re.findall(\"[555]\",str)\n",
    "print(a)"
   ]
  },
  {
   "cell_type": "code",
   "execution_count": 64,
   "id": "2378807b",
   "metadata": {},
   "outputs": [
    {
     "name": "stdout",
     "output_type": "stream",
     "text": [
      "['1', '2', '3', '4', '5']\n"
     ]
    }
   ],
   "source": [
    "### [1-9]\n",
    "str='12345 python is a programming language'\n",
    "a=re.findall(\"[0-9]\",str)\n",
    "print(a)"
   ]
  },
  {
   "cell_type": "code",
   "execution_count": 65,
   "id": "df5f848b",
   "metadata": {},
   "outputs": [
    {
     "name": "stdout",
     "output_type": "stream",
     "text": [
      "['456', '555']\n"
     ]
    }
   ],
   "source": [
    "## [0-999]\n",
    "str='python456  is a555 programming language language'\n",
    "a=re.findall('[0-9][0-9][0-9]',str)\n",
    "print(a)"
   ]
  },
  {
   "cell_type": "code",
   "execution_count": 68,
   "id": "32768fbb",
   "metadata": {},
   "outputs": [
    {
     "name": "stdout",
     "output_type": "stream",
     "text": [
      "a\n"
     ]
    }
   ],
   "source": [
    "import re\n",
    "str= 'a python is a programming language'\n",
    "a=re.search('a',str)\n",
    "print(a.group())"
   ]
  },
  {
   "cell_type": "code",
   "execution_count": 70,
   "id": "851a2ca8",
   "metadata": {},
   "outputs": [
    {
     "name": "stdout",
     "output_type": "stream",
     "text": [
      "10\n"
     ]
    }
   ],
   "source": [
    "str='python is a programming language'\n",
    "a=re.search('a',str)\n",
    "print(a.start())"
   ]
  },
  {
   "cell_type": "code",
   "execution_count": null,
   "id": "ad1a6ced",
   "metadata": {},
   "outputs": [],
   "source": []
  }
 ],
 "metadata": {
  "kernelspec": {
   "display_name": "Python 3 (ipykernel)",
   "language": "python",
   "name": "python3"
  },
  "language_info": {
   "codemirror_mode": {
    "name": "ipython",
    "version": 3
   },
   "file_extension": ".py",
   "mimetype": "text/x-python",
   "name": "python",
   "nbconvert_exporter": "python",
   "pygments_lexer": "ipython3",
   "version": "3.9.16"
  }
 },
 "nbformat": 4,
 "nbformat_minor": 5
}
